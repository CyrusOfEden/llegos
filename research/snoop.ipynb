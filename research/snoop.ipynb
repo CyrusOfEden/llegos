{
 "cells": [
  {
   "cell_type": "code",
   "execution_count": 49,
   "metadata": {},
   "outputs": [],
   "source": [
    "import snoop\n",
    "\n",
    "def tracer(store: list[str], **kwargs):\n",
    "    def write(line: str):\n",
    "        line = line.strip()\n",
    "        if \"\\n\" in line:\n",
    "            line = line.split(\"\\n\")[0]\n",
    "        if line.startswith(\"...\"):\n",
    "            store.append(line.lstrip(\".\"))\n",
    "\n",
    "    return snoop.Config(out=write, columns=(), **kwargs).snoop\n"
   ]
  },
  {
   "cell_type": "code",
   "execution_count": 54,
   "metadata": {},
   "outputs": [
    {
     "name": "stdout",
     "output_type": "stream",
     "text": [
      " x = 84\n",
      " x = 42.0\n"
     ]
    }
   ],
   "source": [
    "trace = []\n",
    "\n",
    "@tracer(trace)(watch=[\"x\"])\n",
    "def hello():\n",
    "    x = 42\n",
    "    x *= 2\n",
    "    x /= 2\n",
    "    assert x == 42\n",
    "\n",
    "hello()\n",
    "for line in trace:\n",
    "    print(line)"
   ]
  },
  {
   "cell_type": "code",
   "execution_count": 55,
   "metadata": {},
   "outputs": [
    {
     "name": "stdout",
     "output_type": "stream",
     "text": [
      " attrs = {'answer': 42}\n",
      " attrs = {'answer': 84}\n",
      " attrs = {'answer': 84, 'question': 'What is the answer?'}\n"
     ]
    }
   ],
   "source": [
    "trace = []\n",
    "\n",
    "@tracer(trace)(watch_explode=[\"attrs\"])\n",
    "def world():\n",
    "    attrs = {}\n",
    "    attrs[\"answer\"] = 42\n",
    "    attrs[\"answer\"] *= 2\n",
    "    attrs[\"question\"] = \"What is the answer?\"\n",
    "    return attrs\n",
    "\n",
    "world()\n",
    "for line in trace:\n",
    "    print(line)"
   ]
  },
  {
   "cell_type": "code",
   "execution_count": null,
   "metadata": {},
   "outputs": [],
   "source": []
  }
 ],
 "metadata": {
  "kernelspec": {
   "display_name": "llegos-5cS2_l5r-py3.10",
   "language": "python",
   "name": "python3"
  },
  "language_info": {
   "codemirror_mode": {
    "name": "ipython",
    "version": 3
   },
   "file_extension": ".py",
   "mimetype": "text/x-python",
   "name": "python",
   "nbconvert_exporter": "python",
   "pygments_lexer": "ipython3",
   "version": "3.10.12"
  }
 },
 "nbformat": 4,
 "nbformat_minor": 2
}
